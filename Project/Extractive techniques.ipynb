{
 "cells": [
  {
   "cell_type": "code",
   "execution_count": 111,
   "metadata": {},
   "outputs": [],
   "source": [
    "import bs4 as bs  \n",
    "import urllib.request  \n",
    "import re\n",
    "import nltk\n",
    "import logging\n",
    "import re\n",
    "import nltk\n",
    "import heapq "
   ]
  },
  {
   "cell_type": "code",
   "execution_count": 21,
   "metadata": {},
   "outputs": [
    {
     "name": "stdout",
     "output_type": "stream",
     "text": [
      "Enter the Wikipedia URL to pull - https://en.wikipedia.org/wiki/A_Star_Is_Born_(2018_film)\n"
     ]
    }
   ],
   "source": [
    "logging.basicConfig(format='%(asctime)s : %(levelname)s : %(message)s', level=logging.INFO)\n",
    "from gensim.summarization import summarize as gsm\n",
    "from gensim.summarization import keywords as gkw\n",
    "\n",
    "url_topull = input('Enter the Wikipedia URL to pull - ')\n",
    "\n",
    "scraped_data = urllib.request.urlopen(url_topull)  \n",
    "article = scraped_data.read()\n",
    "\n",
    "parsed_article = bs.BeautifulSoup(article,'lxml')\n",
    "\n",
    "paragraphs = parsed_article.find_all('p')\n",
    "\n",
    "article_text = \"\"\n",
    "\n",
    "for p in paragraphs:  \n",
    "    article_text += p.text"
   ]
  },
  {
   "cell_type": "code",
   "execution_count": 3,
   "metadata": {},
   "outputs": [
    {
     "name": "stdout",
     "output_type": "stream",
     "text": [
      "\n",
      "A Star Is Born is a 2018 American musical romantic drama film produced and directed by Bradley Cooper (in his directorial debut) and written by Eric Roth, Cooper and Will Fetters. A remake of the 1937 film of the same name, it stars Cooper, Lady Gaga, Dave Chappelle, Andrew Dice Clay, and Sam Elliott, and follows a hard-drinking musician (Cooper) who discovers and falls in love with a young singer (Gaga). It marks the third remake of the original 1937 film, after the 1954 musical and the 1976 musical.\n",
      "Talks of a remake of A Star Is Born began in 2011, with Clint Eastwood attached to direct and Beyoncé set to star. The film was in development hell for several years with various actors approached to co-star, including Christian Bale, Leonardo DiCaprio, Will Smith, and Tom Cruise. In March 2016, Cooper signed on to star and direct, and Lady Gaga joined the cast in August 2016. Principal photography began at the Coachella Valley Music and Arts Festival in April 2017.\n",
      "A Star Is Born premiered at the 75th Venice International Film Festival on August 31, 2018, and was theatrically released in the United States on October 5, 2018, by Warner Bros. The film has grossed over $429 million worldwide and received critical acclaim, with praise for Cooper, Gaga, and Elliott's performances and Cooper's direction, as well as the screenplay, cinematography and music. It was chosen by both the National Board of Review and American Film Institute as one of the Top 10 Films of 2018. The film received numerous accolades, including eight nominations at the 91st Academy Awards, among them Best Picture, Best Actor (Cooper), Best Actress (Gaga) and Best Supporting Actor (Elliott), and won for Best Original Song (\"Shallow\"). It also earned five nominations at the 76th Golden Globe Awards, including Best Motion Picture – Drama, winning Best Original Song for Gaga's \"Shallow\".\n",
      "Jackson \"Jack\" Maine, a famous country music singer privately battling an alcohol and drug addiction, plays a concert in California. His main support is Bobby, his manager and older half-brother. After the show, Jack visits a drag bar where he witnesses a performance by Ally, a waitress and singer-songwriter. Jack is amazed by her performance, and they spend the night talking to each other, where Ally discloses to him the troubles she has faced in pursuing a professional music career.\n",
      "Jack invites Ally to his next show. Despite her initial refusal she attends and, with Jack's encouragement, sings on stage with him. Jack invites Ally to go on tour with him, and they form a romantic relationship. In Arizona, Ally and Jack visit the ranch where Jack grew up and where his father is buried, only to discover that Bobby sold the land. Angered at his betrayal, Jack punches Bobby, who subsequently quits as his manager. Before doing so, Bobby reveals that he did inform Jack about the sale, but the latter was too inebriated to notice.\n",
      "While on tour Ally meets Rez, a record producer who offers her a contract. Although visibly bothered, Jack still supports her decision. Rez refocuses Ally away from country music and towards pop. Jack misses one of Ally's performances after he passes out drunk in public; he recovers at the home of his best friend George \"Noodles\" Stone, and later makes up with Ally. There he proposes to Ally with an impromptu ring made from a loop of guitar string, and they are married that same day at a church ministered by a relative of Noodles.\n",
      "During Ally's performance on Saturday Night Live, Bobby reconciles with Jack. Later, Jack and Ally fight after he drunkenly voices his disapproval of Ally's new image and music, which is nominated for three Grammy Awards. At the Grammys, a visibly intoxicated Jack performs in a tribute to Roy Orbison, and Ally wins the Best New Artist award. When she goes up on stage to receive her award, Jack follows her, where he wets himself and passes out. Ally's father Lorenzo berates Jack and Ally helps him sober up. Jack joins a rehabilitation program shortly thereafter.\n",
      "Jack recovers in rehab for about two months, where he discloses to his counselor that he attempted suicide when he was 13 years old. He also mentions that he has tinnitus, which has been getting worse.  He tearfully apologizes to Ally for his behavior, and returns home. Ally wishes to bring Jack to perform with her on the European leg of her tour; Rez refuses, prompting Ally to cancel the remainder of the tour so she can care for Jack.\n",
      "Rez later confronts Jack, accusing him of holding Ally back. That evening, Ally lies to Jack, and tells him that her record label has cancelled her tour so she can focus on her second album. Jack promises that he will come to her concert that night, but after Ally leaves, he hangs himself in their garage.\n",
      "Ally becomes inconsolable after Jack's death. She is visited by Bobby, who explains Jack's death was Jack's own fault and not hers. Ally takes a song that Jack had written but never performed and sings it at a tribute concert, introducing herself as Ally Maine.\n",
      "Additionally, Shangela Laquifa Wadley appears as the drag bar emcee, Willam Belli as drag queen Emerald, and Ron Rifkin as Carl. Rebecca Field portrays Gail, while Michael Harney portrays Wolfie, a friend of Lorenzo. Lukas Nelson & Promise of the Real appear as Jackson's band,  Eddie Griffin appears as a local preacher and Luenell appears as a cashier. Marlon Williams, Brandi Carlile, Halsey, Alec Baldwin, and Don Roy King cameo as themselves.\n",
      "In January 2011, it was announced that Clint Eastwood was in talks to direct Beyoncé in a third American remake of the 1937 film A Star Is Born; however, the project was delayed due to Beyoncé's pregnancy.[9] In April 2012, writer Will Fetters told Collider that the script was inspired by Kurt Cobain.[10] Talks with Christian Bale, Leonardo DiCaprio, Tom Cruise, Johnny Depp, and Will Smith to play the male lead failed to come to fruition. On October 9, 2012, Beyoncé left the project, and it was reported that Bradley Cooper was in talks to star. Eastwood was interested in Esperanza Spalding to play the female lead.[11]\n",
      "On March 24, 2015, Warner Bros. announced that Cooper was in final talks to make his directorial debut with the film, and potentially to star with Beyoncé, who was again in talks to join;[12] Cooper did become the male lead.[13][14][15] On August 16, 2016, it was reported that Lady Gaga had officially become attached and the studio had green-lit the project to begin production early 2017.[16] It marks the third remake of the original 1937 film, after the 1954 musical and 1976 rock musical. Furthermore, the 2013 Bollywood romance film, Aashiqui 2, was inspired by \"A Star is Born\", but was not a remake.[17] On November 9, 2016, it was reported that Ray Liotta was in talks to join the film in the role of the manager to Cooper's character, though he ultimately was not involved.[18] On March 17, 2017, Sam Elliott joined the film,[19] with Andrew Dice Clay entering negotiations to play Lorenzo, the father of Lady Gaga's character.[20] Clay was selected over Robert De Niro, John Turturro and John Travolta.[21] In April 2017, Rafi Gavron, Michael Harney, and Rebecca Field also joined the cast.[22]\n",
      "Filming began on April 17, 2017.[1] In May, Dave Chappelle was cast in the film.[23] In April 2018, it was announced that Halsey would have a small role.[24]\n",
      "After seeing him perform at Desert Trip festival, Cooper approached Lukas Nelson (son of country music singer Willie Nelson) and asked him to help work on the film. Nelson agreed and wrote several songs, which he sent to the producers.[25] Nelson subsequently met Lady Gaga and began writing songs with her and she, in turn, provided backing vocals on two tracks on his self-titled 2017 album.[26] The soundtrack, performed by Gaga and Cooper, was released on October 5, 2018, by Interscope Records. The studio announced that the album \"features 19 songs in a wide range of musical styles + 15 dialogue tracks that will take you on a journey that mirrors the experience of seeing the film.\"[27]\n",
      "A Star Is Born had its world premiere at the Venice Film Festival on August 31, 2018.[28][29] It also screened at the Toronto International Film Festival,[30] the San Sebastián International Film Festival, and the Zurich Film Festival in September 2018.[31][32] The film was theatrically released in the United States on October 5, 2018,[33] distributed by Warner Bros. Pictures, after initially having been set for September 28, 2018, and May 18, 2018, releases.[34][35] From December 7, 2018, the film had a limited release in IMAX theaters across United States and Canada. Jeff Goldstein, President of Domestic Distribution, Warner Bros. Pictures, said, \"Securing premium IMAX screens in this competitive holiday window, ten weeks into release, speaks to the quality of the film Bradley Cooper has delivered and the passion audiences have for this story. We are thrilled to be able to give moviegoers a chance to see 'A Star Is Born' again, or for the first time, in such an experiential format as IMAX.\"[36] On February 28, 2019, the film was re-released in more than 1,150 US theaters with an extra 12 minutes of additional footage. Named as the special \"encore\" edition, it contained extended performances of songs like \"Black Eyes\" and \"Alibi\" from the soundtrack, an a cappella performance of \"Shallow\" by Gaga as well as her singing \"Is That Alright?\" during the wedding sequence of Ally and Jack. Extra footage also contained Cooper singing \"Too Far Gone\" in a recording studio, and Jack and Ally writing a song titled \"Clover\" together.[37]\n",
      "Warner Bros. announced that the film would be available for digital download through retailers on January 15, 2019, followed by its release on Blu-ray, DVD and 4K Ultra HD Blu-ray on February 19. The home video release will feature 10 minutes of never-before-seen musical performances by Cooper and Gaga, and jam recording sessions of songs like \"Midnight Special\", \"Is That Alright?\" and \"Baby What You Want Me to Do\".[38] A behind-the-scenes feature called The Road to Stardom: Making A Star Is Born would also be included along with the music videos for songs from the soundtrack: \"Shallow\", \"Always Remember Us This Way\", \"Look What I Found\" and \"I'll Never Love Again\".[39] The 4K Blu-ray format will have Dolby Vision high-dynamic-range video and Dolby Atmos sound which was remixed and tailored specifically for home environment viewing.[40]\n",
      "As of  March 4, 2019[update], A Star Is Born has grossed $213.1 million in the United States and Canada, and $216.2 million in other territories, for a total worldwide gross of $429.3 million, against a production budget of $36–40 million.[8]\n",
      "In the United States and Canada, A Star Is Born grossed $1.35 million from select Tuesday and Wednesday night screenings, and $15.8 million on its first day, including $3.2 million from Thursday night previews. It went on to debut to $42.9 million for the weekend and finished second at the box office, behind fellow newcomer Venom.[7] The film remained in second place in its second, third and fourth weekends, grossing a respective $28 million, $19.3 million and $14.1 million.[41][42][43] In the film's 10th weekend of release, following the announcement of its five Golden Globe nominations, the film made $2.5 million (up 38% from the previous week), including $800,000 from a limited IMAX run.[44] In the film's 17th week of release, following its eight Oscar nominations, it was added back to an additional 777 theaters (for a total of 1,192) and made $1.3 million, an increase of 107% from the previous weekend.[45] The weekend following its Best Original Song win at the Oscars, the film was added to 490 theaters (for a total of 1,235) and made $1.9 million, a 209% increase from the previous weekend.[46]\n",
      "Outside North America, the film was released day-and-date with the U.S. in 31 other countries, and made $14.2 million in its opening weekend; its largest markets were the United Kingdom ($5.3 million), France ($2.1 million) and Germany ($1.9 million).[47]\n",
      "On review aggregator Rotten Tomatoes, A Star Is Born holds an approval rating of 89% based on 464 reviews, with an average rating of 8.06/10. The website's critical consensus reads, \"With appealing leads, deft direction, and an affecting love story, A Star Is Born is a remake done right—and a reminder that some stories can be just as effective in the retelling.\"[50] On Metacritic, the film has a weighted average score of 88 out of 100, based on 60 critics, indicating \"universal acclaim\".[51] Audiences polled by CinemaScore gave the film an average grade of \"A\" on an A+ to F scale,[52] while PostTrak reported film-goers gave it a 90% positive score.[7]\n",
      "Alonso Duralde of TheWrap gave the film a positive review, saying, \"Cooper and Lady Gaga are dynamite together; this is a story that lives and dies by the central relationship and the instant chemistry that must blossom between them, and these two have it in spades,\" and praised the musical numbers, describing them as \"electrifying\".[53] Owen Gleiberman of Variety lauded Cooper's directing, co-writing, and acting, and called the film \"a transcendent Hollywood movie\".[54] Leah Greenblatt of Entertainment Weekly gave the film a B+, singling out Gaga's performance, saying, \"she deserves praise for her restrained, human-scale performance as a singer whose real-girl vulnerability feels miles away from the glittery meat-dress delirium of her own stage persona.\"[48] Stephanie Zacharek of Time magazine found the film superior to its previous iterations and similarly praised Cooper's direction, the writing, as well the performances and chemistry of Cooper and Gaga. She stated: \"You come away feeling something for these people, flawed individuals who are trying to hold their cracked pieces of self together—or to mend the cracks of those they love,\" also describing Gaga's performance as a \"knockout.\"[55]\n",
      "In his review for Los Angeles Times, Justin Chang called the film \"remarkable,\" and praised Cooper for his fresh take on the well-worn formula of 1937 film, as well his direction, the performances, writing, and the cinematography.[49] Peter Travers of Rolling Stone gave the film 4.5 out of five stars, and deemed it as a \"modern classic,\" hailing the performances of Cooper and Gaga, and Cooper's direction. He found the film's screenplay and the original songs \"seamless\" and \"terrific,\" and also called the film a major Oscar contender of the year and one of the year's best films.[56] The Washington Post's Ann Hornaday described the film as \"lavishly delightful\" and \"earthly convincing,\" and added that it \"offers a suitably jaundiced glimpse of starmaking machinery at its most cynical, but also its most thrilling and gratifying.\" She similarly praised Cooper's direction, the performances and chemistry of Cooper and Gaga, and the supporting performances, particularly Andrew Dice Clay and Sam Elliott.[57]  Writing for Chicago Sun-Times, Richard Roeper described it as \"electric and shatteringly powerful\" and remarked the film as one of the best iterations to its 1937, 1954, and the 1976 versions as well one of the best movies of the year.[58]\n",
      "While praising the direction, acting, and writing, Michael Phillips in the Chicago Tribune argues that a A Star is Born's formula has always been very seductive to audiences, even when it has been written poorly, and Cooper's few missteps include being a bit of a scene hog.[59]  Admitting audiences love it, and he just liked it, Phillips drew attention to a skeptical review by Lindsey Romaine of Medium.com who criticized the story's marginalization of the Gaga character in dealing with Cooper's manipulative addict.  She at least wanted a scene where Gaga's character processed her behavior of letting the addict boyfriend get away with it.  Phillips argued that it is in part the skillful musicianship which gets audiences to blow past such flaws.[60]\n",
      "The film has won a number of awards and nominations. It was chosen by both the National Board of Review and American Film Institute as one of the Top 10 Films of 2018.[61][62] The film received five nominations at the 76th Golden Globe Awards, including Best Motion Picture – Drama,[63] and 8 nominations at the 91st Academy Awards, including Best Picture.[64]\n",
      "\n"
     ]
    }
   ],
   "source": [
    "print(article_text)"
   ]
  },
  {
   "cell_type": "code",
   "execution_count": 22,
   "metadata": {},
   "outputs": [
    {
     "name": "stderr",
     "output_type": "stream",
     "text": [
      "2019-03-06 17:14:12,763 : INFO : adding document #0 to Dictionary(0 unique tokens: [])\n",
      "2019-03-06 17:14:12,775 : INFO : built Dictionary(679 unique tokens: ['american', 'born', 'bradlei', 'cooper', 'debut']...) from 82 documents (total 1427 corpus positions)\n"
     ]
    },
    {
     "name": "stdout",
     "output_type": "stream",
     "text": [
      "A Star Is Born premiered at the 75th Venice International Film Festival on August 31, 2018, and was theatrically released in the United States on October 5, 2018, by Warner Bros.\n",
      "The film received numerous accolades, including eight nominations at the 91st Academy Awards, among them Best Picture, Best Actor (Cooper), Best Actress (Gaga) and Best Supporting Actor (Elliott), and won for Best Original Song (\"Shallow\").\n",
      "In January 2011, it was announced that Clint Eastwood was in talks to direct Beyoncé in a third American remake of the 1937 film A Star Is Born; however, the project was delayed due to Beyoncé's pregnancy.[9] In April 2012, writer Will Fetters told Collider that the script was inspired by Kurt Cobain.[10] Talks with Christian Bale, Leonardo DiCaprio, Tom Cruise, Johnny Depp, and Will Smith to play the male lead failed to come to fruition.\n",
      "Furthermore, the 2013 Bollywood romance film, Aashiqui 2, was inspired by \"A Star is Born\", but was not a remake.[17] On November 9, 2016, it was reported that Ray Liotta was in talks to join the film in the role of the manager to Cooper's character, though he ultimately was not involved.[18] On March 17, 2017, Sam Elliott joined the film,[19] with Andrew Dice Clay entering negotiations to play Lorenzo, the father of Lady Gaga's character.[20] Clay was selected over Robert De Niro, John Turturro and John Travolta.[21] In April 2017, Rafi Gavron, Michael Harney, and Rebecca Field also joined the cast.[22]\n"
     ]
    }
   ],
   "source": [
    "print (gsm(article_text,ratio=0.05))"
   ]
  },
  {
   "cell_type": "code",
   "execution_count": 23,
   "metadata": {},
   "outputs": [
    {
     "name": "stdout",
     "output_type": "stream",
     "text": [
      "jack\n",
      "film\n",
      "films\n",
      "filming\n",
      "ally\n",
      "cooper\n",
      "musical\n",
      "music\n",
      "best\n",
      "performances\n",
      "performance\n",
      "performs\n",
      "perform\n",
      "performed\n",
      "night\n",
      "including\n",
      "included\n",
      "include\n",
      "nelson\n",
      "audiences\n",
      "song\n",
      "songs\n",
      "record\n",
      "records\n",
      "recording\n",
      "lead\n",
      "leads\n",
      "gaga\n",
      "million\n",
      "rez\n",
      "ray\n",
      "weekend\n",
      "weekends\n",
      "released\n",
      "releases\n",
      "release\n",
      "bobby\n",
      "gave\n",
      "awards\n",
      "award\n",
      "time\n",
      "times\n",
      "singer\n",
      "addiction\n",
      "addict\n",
      "imax\n"
     ]
    }
   ],
   "source": [
    "print (gkw(article_text,ratio=0.05))"
   ]
  },
  {
   "cell_type": "code",
   "execution_count": 14,
   "metadata": {},
   "outputs": [
    {
     "name": "stdout",
     "output_type": "stream",
     "text": [
      "Text pre-processing pull done\n",
      "Word Frequencies determined\n",
      "It also screened at the Toronto International Film Festival, the San Sebastián International Film Festival, and the Zurich Film Festival in September 2018.The film remained in second place in its second, third and fourth weekends, grossing a respective $28 million, $19.3 million and $14.1 million.It was chosen by both the National Board of Review and American Film Institute as one of the Top 10 Films of 2018.The film received five nominations at the 76th Golden Globe Awards, including Best Motion Picture – Drama, and 8 nominations at the 91st Academy Awards, including Best Picture.It marks the third remake of the original 1937 film, after the 1954 musical and 1976 rock musical.It marks the third remake of the original 1937 film, after the 1954 musical and the 1976 musical.Audiences polled by CinemaScore gave the film an average grade of \"A\" on an A+ to F scale, while PostTrak reported film-goers gave it a 90% positive score.After seeing him perform at Desert Trip festival, Cooper approached Lukas Nelson (son of country music singer Willie Nelson) and asked him to help work on the film.The film was in development hell for several years with various actors approached to co-star, including Christian Bale, Leonardo DiCaprio, Will Smith, and Tom Cruise.Furthermore, the 2013 Bollywood romance film, Aashiqui 2, was inspired by \"A Star is Born\", but was not a remake.\n"
     ]
    }
   ],
   "source": [
    "article_text = re.sub(r'\\[[0-9]*\\]', ' ', article_text)  \n",
    "article_text = re.sub(r'\\s+', ' ', article_text)  \n",
    "\n",
    "formatted_article_text = re.sub('[^a-zA-Z]', ' ', article_text )  \n",
    "formatted_article_text = re.sub(r'\\s+', ' ', formatted_article_text)\n",
    "\n",
    "sentence_list = nltk.sent_tokenize(article_text)  \n",
    "\n",
    "stopwords = nltk.corpus.stopwords.words('english')\n",
    "\n",
    "print(\"Text pre-processing pull done\")\n",
    "word_frequencies = {}  \n",
    "for word in nltk.word_tokenize(formatted_article_text):  \n",
    "    if word not in stopwords:\n",
    "        if word not in word_frequencies.keys():\n",
    "            word_frequencies[word] = 1\n",
    "        else:\n",
    "            word_frequencies[word] += 1\n",
    "\n",
    "maximum_frequncy = max(word_frequencies.values())\n",
    "\n",
    "for word in word_frequencies.keys():  \n",
    "    word_frequencies[word] = (word_frequencies[word]/maximum_frequncy)\n",
    "\n",
    "print(\"Word Frequencies determined\")\n",
    "\n",
    "sentence_scores = {}  \n",
    "for sent in sentence_list:  \n",
    "    for word in nltk.word_tokenize(sent.lower()):\n",
    "        if word in word_frequencies.keys():\n",
    "            if len(sent.split(' ')) < 30:\n",
    "                if sent not in sentence_scores.keys():\n",
    "                    sentence_scores[sent] = word_frequencies[word]\n",
    "                else:\n",
    "                    sentence_scores[sent] += word_frequencies[word]\n",
    "\n",
    "summary_sentences = heapq.nlargest(10, sentence_scores, key=sentence_scores.get)\n",
    "print(''.join(summary_sentences))"
   ]
  },
  {
   "cell_type": "code",
   "execution_count": 19,
   "metadata": {},
   "outputs": [
    {
     "data": {
      "text/plain": [
       "[{'rouge-1': {'f': 0.228702991067358, 'p': 1.0, 'r': 0.1291161178509532},\n",
       "  'rouge-2': {'f': 0.16262135768205194,\n",
       "   'p': 0.9663461538461539,\n",
       "   'r': 0.0887809187279152},\n",
       "  'rouge-l': {'f': 0.130986661389904, 'p': 1.0, 'r': 0.1291161178509532}}]"
      ]
     },
     "execution_count": 19,
     "metadata": {},
     "output_type": "execute_result"
    }
   ],
   "source": [
    "#Measuring using ROGUE\n",
    "from rouge import Rouge\n",
    "rouge = Rouge()\n",
    "scores = rouge.get_scores(''.join(summary_sentences),article_text)\n",
    "scores"
   ]
  },
  {
   "cell_type": "code",
   "execution_count": 17,
   "metadata": {},
   "outputs": [
    {
     "name": "stderr",
     "output_type": "stream",
     "text": [
      "2019-03-06 15:09:44,808 : INFO : adding document #0 to Dictionary(0 unique tokens: [])\n",
      "2019-03-06 15:09:44,813 : INFO : built Dictionary(679 unique tokens: ['american', 'born', 'bradlei', 'cooper', 'debut']...) from 109 documents (total 1427 corpus positions)\n"
     ]
    },
    {
     "data": {
      "text/plain": [
       "[{'rouge-1': {'f': 0.1883830438195131, 'p': 0.10398613518197573, 'r': 1.0},\n",
       "  'rouge-2': {'f': 0.13113401937887897,\n",
       "   'p': 0.07022968197879859,\n",
       "   'r': 0.9875776397515528},\n",
       "  'rouge-l': {'f': 0.10499249430742699, 'p': 0.10398613518197573, 'r': 1.0}}]"
      ]
     },
     "execution_count": 17,
     "metadata": {},
     "output_type": "execute_result"
    }
   ],
   "source": [
    "scores = rouge.get_scores(article_text,summarize(article_text,ratio=0.05))\n",
    "scores"
   ]
  },
  {
   "cell_type": "code",
   "execution_count": 30,
   "metadata": {},
   "outputs": [
    {
     "name": "stdout",
     "output_type": "stream",
     "text": [
      "announced that Cooper was in final talks to make his directorial debut with the film, and potentially to star with Beyoncé, who was again in talks to join;[12] Cooper did become the male lead.[13][14][15] On August 16, 2016, it was reported that Lady Gaga had officially become attached and the studio had green-lit the project to begin production early 2017.[16] It marks the third remake of the original 1937 film, after the 1954 musical and 1976 rock musical.\n",
      "Furthermore, the 2013 Bollywood romance film, Aashiqui 2, was inspired by \"A Star is Born\", but was not a remake.[17] On November 9, 2016, it was reported that Ray Liotta was in talks to join the film in the role of the manager to Cooper's character, though he ultimately was not involved.[18] On March 17, 2017, Sam Elliott joined the film,[19] with Andrew Dice Clay entering negotiations to play Lorenzo, the father of Lady Gaga's character.[20] Clay was selected over Robert De Niro, John Turturro and John Travolta.[21] In April 2017, Rafi Gavron, Michael Harney, and Rebecca Field also joined the cast.[22]\n",
      "The home video release will feature 10 minutes of never-before-seen musical performances by Cooper and Gaga, and jam recording sessions of songs like \"Midnight Special\", \"Is That Alright?\" and \"Baby What You Want Me to Do\".[38] A behind-the-scenes feature called The Road to Stardom: Making A Star Is Born would also be included along with the music videos for songs from the soundtrack: \"Shallow\", \"Always Remember Us This Way\", \"Look What I Found\" and \"I'll Never Love Again\".[39] The 4K Blu-ray format will have Dolby Vision high-dynamic-range video and Dolby Atmos sound which was remixed and tailored specifically for home environment viewing.[40]\n",
      "Alonso Duralde of TheWrap gave the film a positive review, saying, \"Cooper and Lady Gaga are dynamite together; this is a story that lives and dies by the central relationship and the instant chemistry that must blossom between them, and these two have it in spades,\" and praised the musical numbers, describing them as \"electrifying\".[53] Owen Gleiberman of Variety lauded Cooper's directing, co-writing, and acting, and called the film \"a transcendent Hollywood movie\".[54] Leah Greenblatt of Entertainment Weekly gave the film a B+, singling out Gaga's performance, saying, \"she deserves praise for her restrained, human-scale performance as a singer whose real-girl vulnerability feels miles away from the glittery meat-dress delirium of her own stage persona.\"[48] Stephanie Zacharek of Time magazine found the film superior to its previous iterations and similarly praised Cooper's direction, the writing, as well the performances and chemistry of Cooper and Gaga.\n"
     ]
    }
   ],
   "source": [
    "from summa import summarizer as ssm\n",
    "print(ssm.summarize(article_text,ratio= 0.05))"
   ]
  },
  {
   "cell_type": "markdown",
   "metadata": {},
   "source": [
    "## Evaluating based on ROUGE-1 scores"
   ]
  },
  {
   "cell_type": "markdown",
   "metadata": {},
   "source": [
    "### Based on opinions dataset"
   ]
  },
  {
   "cell_type": "code",
   "execution_count": 48,
   "metadata": {},
   "outputs": [],
   "source": [
    "import os\n",
    "direc = \"C:/Users/abhin/Documents/3_Spring Classes/Cognitive Computing/Project/Easy techniques/data/summaries-gold\"\n",
    "ext = '.gold'\n",
    "keys = [i for i in os.listdir(direc)]\n",
    "gold_dict = {}\n",
    "\n",
    "for k in keys:\n",
    "    for i in os.listdir(direc+r'/'+k):\n",
    "        if os.path.splitext(i)[1] == ext:\n",
    "            with open(os.path.join(direc + r'/'+ k + r'/'+ i)) as file_object:\n",
    "                if k not in gold_dict.keys():\n",
    "                    gold_dict[k] = [file_object.read()]\n",
    "                else:\n",
    "                    gold_dict[k].append(file_object.read())"
   ]
  },
  {
   "cell_type": "code",
   "execution_count": 107,
   "metadata": {},
   "outputs": [],
   "source": [
    "import json\n",
    "with open('gold_dict.json', 'w') as fp:\n",
    "    json.dump(gold_dict, fp)"
   ]
  },
  {
   "cell_type": "code",
   "execution_count": 32,
   "metadata": {},
   "outputs": [],
   "source": [
    "# Iterate over your txt files\n",
    "direc = \"C:/Users/abhin/Documents/3_Spring Classes/Cognitive Computing/Project/Easy techniques/data/topics\"\n",
    "topics_dict = {}\n",
    "ext = '.data'\n",
    "\n",
    "txt_files = [i for i in os.listdir(direc) if os.path.splitext(i)[1] == ext]\n",
    "\n",
    "for f in txt_files:\n",
    "    # Open them and assign them to file_dict\n",
    "    with open(os.path.join(direc,f)) as file_object:\n",
    "        topics_dict[f] = file_object.read()"
   ]
  },
  {
   "cell_type": "code",
   "execution_count": 78,
   "metadata": {},
   "outputs": [],
   "source": [
    "from gensim.summarization import summarize\n",
    "summary_dict = {}\n",
    "\n",
    "for k,v in topics_dict.items():\n",
    "    temp_key = str.split(k,'.')[0]\n",
    "    summary_dict[temp_key] = summarize(v,word_count = 100)"
   ]
  },
  {
   "cell_type": "code",
   "execution_count": 80,
   "metadata": {},
   "outputs": [],
   "source": [
    "# ROGUE scores calculation\n",
    "from rouge import Rouge\n",
    "rouge = Rouge()"
   ]
  },
  {
   "cell_type": "code",
   "execution_count": 81,
   "metadata": {},
   "outputs": [],
   "source": [
    "def create_rogue_scores(summary_dict):\n",
    "    rogue_dict = {}\n",
    "    for key,value in gold_dict.items():\n",
    "        for v in value:\n",
    "            if key not in rogue_dict.keys():\n",
    "                rogue_dict[key] = [rouge.get_scores(summary_dict[key],v)]\n",
    "            else:\n",
    "                rogue_dict[key].append(rouge.get_scores(summary_dict[key],v))\n",
    "    \n",
    "    return(rogue_dict)"
   ]
  },
  {
   "cell_type": "code",
   "execution_count": 82,
   "metadata": {},
   "outputs": [],
   "source": [
    "gensim_summarize_rogue = create_rogue_scores(summary_dict)"
   ]
  },
  {
   "cell_type": "code",
   "execution_count": 98,
   "metadata": {},
   "outputs": [],
   "source": [
    "gensim_rouge1_f = []\n",
    "gensim_rouge1_p = []\n",
    "gensim_rouge1_r = []\n",
    "for v in gensim_summarize_rogue.values():\n",
    "    for i in v:\n",
    "        for j in i:\n",
    "            gensim_rouge1_p.append(j['rouge-1']['p'])\n",
    "            gensim_rouge1_f.append(j['rouge-1']['f'])\n",
    "            gensim_rouge1_r.append(j['rouge-1']['r'])"
   ]
  },
  {
   "cell_type": "code",
   "execution_count": 105,
   "metadata": {},
   "outputs": [
    {
     "data": {
      "text/plain": [
       "0.25"
      ]
     },
     "execution_count": 105,
     "metadata": {},
     "output_type": "execute_result"
    }
   ],
   "source": [
    "max(gensim_rouge1_p)"
   ]
  },
  {
   "cell_type": "code",
   "execution_count": 106,
   "metadata": {},
   "outputs": [
    {
     "data": {
      "text/plain": [
       "0.09594143514797672"
      ]
     },
     "execution_count": 106,
     "metadata": {},
     "output_type": "execute_result"
    }
   ],
   "source": [
    "sum(gensim_rouge1_p)/len(gensim_rouge1_p)"
   ]
  },
  {
   "cell_type": "code",
   "execution_count": 84,
   "metadata": {},
   "outputs": [],
   "source": [
    "from summa import summarizer\n",
    "summary_dict = {}\n",
    "\n",
    "for k,v in topics_dict.items():\n",
    "    temp_key = str.split(k,'.')[0]\n",
    "    summary_dict[temp_key] = summarizer.summarize(v,words = 100)"
   ]
  },
  {
   "cell_type": "code",
   "execution_count": 85,
   "metadata": {},
   "outputs": [],
   "source": [
    "summa_summarize_rogue = create_rogue_scores(summary_dict)"
   ]
  },
  {
   "cell_type": "code",
   "execution_count": 99,
   "metadata": {},
   "outputs": [],
   "source": [
    "summa_rouge1_f = []\n",
    "summa_rouge1_p = []\n",
    "summa_rouge1_r = []\n",
    "for v in summa_summarize_rogue.values():\n",
    "    for i in v:\n",
    "        for j in i:\n",
    "            summa_rouge1_p.append(j['rouge-1']['p'])\n",
    "            summa_rouge1_f.append(j['rouge-1']['f'])\n",
    "            summa_rouge1_r.append(j['rouge-1']['r'])"
   ]
  },
  {
   "cell_type": "code",
   "execution_count": 104,
   "metadata": {},
   "outputs": [
    {
     "data": {
      "text/plain": [
       "0.25"
      ]
     },
     "execution_count": 104,
     "metadata": {},
     "output_type": "execute_result"
    }
   ],
   "source": [
    "max(gensim_rouge1_p)"
   ]
  },
  {
   "cell_type": "code",
   "execution_count": 101,
   "metadata": {},
   "outputs": [
    {
     "data": {
      "text/plain": [
       "0.1260251689296316"
      ]
     },
     "execution_count": 101,
     "metadata": {},
     "output_type": "execute_result"
    }
   ],
   "source": [
    "sum(summa_rouge1_p)/len(summa_rouge1_p)"
   ]
  },
  {
   "cell_type": "markdown",
   "metadata": {},
   "source": [
    "Summa perfoms better than gensim"
   ]
  },
  {
   "cell_type": "code",
   "execution_count": 113,
   "metadata": {},
   "outputs": [],
   "source": [
    "def easy_nltk(article_text,sentence_count = 5):\n",
    "    article_text = re.sub(r'\\[[0-9]*\\]', ' ', article_text)  \n",
    "    article_text = re.sub(r'\\s+', ' ', article_text)  \n",
    "\n",
    "    formatted_article_text = re.sub('[^a-zA-Z]', ' ', article_text )  \n",
    "    formatted_article_text = re.sub(r'\\s+', ' ', formatted_article_text)\n",
    "\n",
    "    sentence_list = nltk.sent_tokenize(article_text)  \n",
    "\n",
    "    stopwords = nltk.corpus.stopwords.words('english')\n",
    "\n",
    "    word_frequencies = {}  \n",
    "    for word in nltk.word_tokenize(formatted_article_text):  \n",
    "        if word not in stopwords:\n",
    "            if word not in word_frequencies.keys():\n",
    "                word_frequencies[word] = 1\n",
    "            else:\n",
    "                word_frequencies[word] += 1\n",
    "\n",
    "    maximum_frequncy = max(word_frequencies.values())\n",
    "\n",
    "    for word in word_frequencies.keys():  \n",
    "        word_frequencies[word] = (word_frequencies[word]/maximum_frequncy)\n",
    "\n",
    "    sentence_scores = {}  \n",
    "    for sent in sentence_list:  \n",
    "        for word in nltk.word_tokenize(sent.lower()):\n",
    "            if word in word_frequencies.keys():\n",
    "                if len(sent.split(' ')) < 30:\n",
    "                    if sent not in sentence_scores.keys():\n",
    "                        sentence_scores[sent] = word_frequencies[word]\n",
    "                    else:\n",
    "                        sentence_scores[sent] += word_frequencies[word]\n",
    "\n",
    "    summary_sentences = heapq.nlargest(10, sentence_scores, key=sentence_scores.get)\n",
    "    return(''.join(summary_sentences))"
   ]
  },
  {
   "cell_type": "code",
   "execution_count": 114,
   "metadata": {},
   "outputs": [],
   "source": [
    "summary_dict = {}\n",
    "\n",
    "for k,v in topics_dict.items():\n",
    "    temp_key = str.split(k,'.')[0]\n",
    "    summary_dict[temp_key] = easy_nltk(v,sentence_count = 5)"
   ]
  },
  {
   "cell_type": "code",
   "execution_count": 115,
   "metadata": {},
   "outputs": [],
   "source": [
    "nltk_summarize_rogue = create_rogue_scores(summary_dict)"
   ]
  },
  {
   "cell_type": "code",
   "execution_count": 116,
   "metadata": {},
   "outputs": [],
   "source": [
    "nltk_rouge1_f = []\n",
    "nltk_rouge1_p = []\n",
    "nltk_rouge1_r = []\n",
    "for v in summa_summarize_rogue.values():\n",
    "    for i in v:\n",
    "        for j in i:\n",
    "            nltk_rouge1_p.append(j['rouge-1']['p'])\n",
    "            nltk_rouge1_f.append(j['rouge-1']['f'])\n",
    "            nltk_rouge1_r.append(j['rouge-1']['r'])"
   ]
  },
  {
   "cell_type": "code",
   "execution_count": 119,
   "metadata": {},
   "outputs": [
    {
     "data": {
      "text/plain": [
       "0.1260251689296316"
      ]
     },
     "execution_count": 119,
     "metadata": {},
     "output_type": "execute_result"
    }
   ],
   "source": [
    "sum(nltk_rouge1_p)/len(nltk_rouge1_p)"
   ]
  },
  {
   "cell_type": "code",
   "execution_count": 118,
   "metadata": {},
   "outputs": [
    {
     "data": {
      "text/plain": [
       "0.35714285714285715"
      ]
     },
     "execution_count": 118,
     "metadata": {},
     "output_type": "execute_result"
    }
   ],
   "source": [
    "max(nltk_rouge1_p)"
   ]
  }
 ],
 "metadata": {
  "kernelspec": {
   "display_name": "Python 3",
   "language": "python",
   "name": "python3"
  },
  "language_info": {
   "codemirror_mode": {
    "name": "ipython",
    "version": 3
   },
   "file_extension": ".py",
   "mimetype": "text/x-python",
   "name": "python",
   "nbconvert_exporter": "python",
   "pygments_lexer": "ipython3",
   "version": "3.6.6"
  }
 },
 "nbformat": 4,
 "nbformat_minor": 2
}
